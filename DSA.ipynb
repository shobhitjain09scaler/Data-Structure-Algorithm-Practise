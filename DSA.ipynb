{
 "cells": [
  {
   "cell_type": "code",
   "execution_count": 18,
   "id": "3bcf854b",
   "metadata": {},
   "outputs": [
    {
     "name": "stdout",
     "output_type": "stream",
     "text": [
      "None\n"
     ]
    }
   ],
   "source": [
    "## LINEAR SEARCH ALGORITHM ##\n",
    "## QUESTION - Locate the card with minimum attempts\n",
    "\n",
    "def locate_card(cards, query):\n",
    "    pass\n",
    "\n",
    "cards = [13, 11, 10, 7, 4, 3, 1, 0]\n",
    "query = 7\n",
    "output = 3\n",
    "\n",
    "result = locate_card(cards, query)\n",
    "print(result)"
   ]
  },
  {
   "cell_type": "code",
   "execution_count": 2,
   "id": "dde4726b",
   "metadata": {},
   "outputs": [],
   "source": [
    " test = {\n",
    "     'input':{\n",
    "         'cards':[13, 11, 10, 7, 4, 3, 1, 0],\n",
    "         'query': 7\n",
    "     },\n",
    "     'output': 3\n",
    " }"
   ]
  },
  {
   "cell_type": "code",
   "execution_count": 4,
   "id": "080de8d6",
   "metadata": {},
   "outputs": [
    {
     "data": {
      "text/plain": [
       "False"
      ]
     },
     "execution_count": 4,
     "metadata": {},
     "output_type": "execute_result"
    }
   ],
   "source": [
    "# locate_card(test['input']['cards'],test['input']['query']) == test['output']\n",
    "\n",
    "locate_card(**test['input']) == test['output']"
   ]
  },
  {
   "cell_type": "code",
   "execution_count": 9,
   "id": "859af544",
   "metadata": {},
   "outputs": [],
   "source": [
    "# always list down all possible cases you can think about the problem as test cases\n",
    "\n",
    "tests = []\n",
    "\n",
    "#query occurs in the middle\n",
    "\n",
    "tests.append(test)\n",
    "\n",
    "tests.append({\n",
    "    'input':{\n",
    "        'cards': [13, 11, 10, 7, 4, 3, 1, 0],\n",
    "        'query': 1\n",
    "},\n",
    "    'output': 6\n",
    "})"
   ]
  },
  {
   "cell_type": "code",
   "execution_count": 10,
   "id": "2ee9a981",
   "metadata": {},
   "outputs": [],
   "source": [
    "#query is the first element\n",
    "\n",
    "tests.append({\n",
    "    'input': {\n",
    "        'cards': [4, 2, 1, -1],\n",
    "    'query': 4\n",
    "},\n",
    "    'output': 0\n",
    "})"
   ]
  },
  {
   "cell_type": "code",
   "execution_count": 8,
   "id": "011311c5",
   "metadata": {},
   "outputs": [],
   "source": [
    "#query is the last element\n",
    "\n",
    "tests.append({\n",
    "    'input': {\n",
    "        'card':[3, -1, -9, -127],\n",
    "    'query': -127\n",
    "},\n",
    "    'output': 3\n",
    "})"
   ]
  },
  {
   "cell_type": "code",
   "execution_count": 11,
   "id": "c00dbdb5",
   "metadata": {},
   "outputs": [],
   "source": [
    "#query is the only element in the cards\n",
    "\n",
    "tests.append({\n",
    "    'input': {\n",
    "        'card':[6],\n",
    "    'query': 6\n",
    "},\n",
    "    'output': 0\n",
    "})"
   ]
  },
  {
   "cell_type": "code",
   "execution_count": 12,
   "id": "1bc7c88c",
   "metadata": {},
   "outputs": [],
   "source": [
    "# cards does not have the card containing the query\n",
    "\n",
    "tests.append({\n",
    "    'input': {\n",
    "        'card':[3, -1, -9, -127],\n",
    "    'query': 6\n",
    "},\n",
    "    'output': -1\n",
    "})"
   ]
  },
  {
   "cell_type": "code",
   "execution_count": 13,
   "id": "bbedee54",
   "metadata": {},
   "outputs": [],
   "source": [
    "# cards array is empty means there are no numbers in it\n",
    "\n",
    "tests.append({\n",
    "    'input': {\n",
    "        'card':[],\n",
    "    'query': 7\n",
    "},\n",
    "    'output': -1\n",
    "})"
   ]
  },
  {
   "cell_type": "code",
   "execution_count": 14,
   "id": "0ac6e6cf",
   "metadata": {},
   "outputs": [],
   "source": [
    "# numbers are repeating in the cards\n",
    "tests.append({\n",
    "    'input': {\n",
    "        'card':[8, 8, 6, 6, 6, 6, 6, 3, 2, 2, 2, 0, 0, 0],\n",
    "    'query': 3\n",
    "},\n",
    "    'output': 7\n",
    "})"
   ]
  },
  {
   "cell_type": "code",
   "execution_count": 16,
   "id": "1ee5a8f6",
   "metadata": {},
   "outputs": [],
   "source": [
    "# query itself repeats - occurs multiple times\n",
    "\n",
    "tests.append({\n",
    "    'input': {\n",
    "        'card':[8, 8, 6, 6, 6, 6, 6, 3, 2, 2, 2, 0, 0, 0],\n",
    "    'query': 6\n",
    "},\n",
    "    'output': 2\n",
    "})"
   ]
  },
  {
   "cell_type": "code",
   "execution_count": 17,
   "id": "7515549d",
   "metadata": {},
   "outputs": [
    {
     "data": {
      "text/plain": [
       "[{'input': {'cards': [13, 11, 10, 7, 4, 3, 1, 0], 'query': 7}, 'output': 3},\n",
       " {'input': {'cards': [13, 11, 10, 7, 4, 3, 1, 0], 'query': 1}, 'output': 6},\n",
       " {'input': {'cards': [4, 2, 1, -1], 'query': 4}, 'output': 0},\n",
       " {'input': {'card': [6], 'query': 6}, 'output': 0},\n",
       " {'input': {'card': [3, -1, -9, -127], 'query': 6}, 'output': -1},\n",
       " {'input': {'card': [], 'query': 7}, 'output': -1},\n",
       " {'input': {'card': [8, 8, 6, 6, 6, 6, 6, 3, 2, 2, 2, 0, 0, 0], 'query': 3},\n",
       "  'output': 3},\n",
       " {'input': {'card': [8, 8, 6, 6, 6, 6, 6, 3, 2, 2, 2, 0, 0, 0], 'query': 6},\n",
       "  'output': 2}]"
      ]
     },
     "execution_count": 17,
     "metadata": {},
     "output_type": "execute_result"
    }
   ],
   "source": [
    "tests"
   ]
  },
  {
   "cell_type": "code",
   "execution_count": 19,
   "id": "ea51a757",
   "metadata": {},
   "outputs": [],
   "source": [
    " def locate_card(cards, query):\n",
    "        #create a variable position with the value 0\n",
    "        position = 0\n",
    "        \n",
    "        #set up a loop for repetition\n",
    "        while True:\n",
    "            \n",
    "            # Check if the element at the current position matches the query\n",
    "            if cards[position] == query:\n",
    "            \n",
    "                # Answer found! Return and exit..\n",
    "                return position\n",
    "        \n",
    "            # Increment the position\n",
    "            position += 1\n",
    "        \n",
    "            # Check if we have reached the end of the array\n",
    "            if position == len(cards):\n",
    "            \n",
    "                # Number not found, return -1\n",
    "                return -1"
   ]
  },
  {
   "cell_type": "code",
   "execution_count": 21,
   "id": "080e7756",
   "metadata": {},
   "outputs": [
    {
     "data": {
      "text/plain": [
       "{'input': {'cards': [13, 11, 10, 7, 4, 3, 1, 0], 'query': 7}, 'output': 3}"
      ]
     },
     "execution_count": 21,
     "metadata": {},
     "output_type": "execute_result"
    }
   ],
   "source": [
    "test"
   ]
  },
  {
   "cell_type": "code",
   "execution_count": 25,
   "id": "e99aa210",
   "metadata": {},
   "outputs": [
    {
     "data": {
      "text/plain": [
       "3"
      ]
     },
     "execution_count": 25,
     "metadata": {},
     "output_type": "execute_result"
    }
   ],
   "source": [
    "result = locate_card(test['input']['cards'], test['input']['query'])\n",
    "result"
   ]
  },
  {
   "cell_type": "code",
   "execution_count": 23,
   "id": "cc6f02a0",
   "metadata": {},
   "outputs": [
    {
     "data": {
      "text/plain": [
       "True"
      ]
     },
     "execution_count": 23,
     "metadata": {},
     "output_type": "execute_result"
    }
   ],
   "source": [
    "result == output"
   ]
  },
  {
   "cell_type": "code",
   "execution_count": null,
   "id": "3c071a16",
   "metadata": {},
   "outputs": [],
   "source": []
  }
 ],
 "metadata": {
  "kernelspec": {
   "display_name": "Python 3",
   "language": "python",
   "name": "python3"
  },
  "language_info": {
   "codemirror_mode": {
    "name": "ipython",
    "version": 3
   },
   "file_extension": ".py",
   "mimetype": "text/x-python",
   "name": "python",
   "nbconvert_exporter": "python",
   "pygments_lexer": "ipython3",
   "version": "3.8.8"
  }
 },
 "nbformat": 4,
 "nbformat_minor": 5
}
